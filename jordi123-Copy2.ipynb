{
 "cells": [
  {
   "cell_type": "code",
   "execution_count": 21,
   "id": "2ecc5949",
   "metadata": {},
   "outputs": [
    {
     "name": "stdout",
     "output_type": "stream",
     "text": [
      "t-shirt\n",
      "How many units do we have? 100\n",
      "mug\n",
      "How many units do we have? 90\n",
      "hat\n",
      "How many units do we have? 80\n",
      "book\n",
      "How many units do we have? 70\n",
      "keychain\n",
      "How many units do we have? 60\n",
      "{'t-shirt': 100, 'mug': 90, 'hat': 80, 'book': 70, 'keychain': 60}\n"
     ]
    }
   ],
   "source": [
    "products=[\"t-shirt\",\"mug\",\"hat\",\"book\",\"keychain\"] \n",
    "inventory={} \n",
    "for x in products: \n",
    "    print(x) \n",
    "    y=int(input(\"How many units do we have? \")) \n",
    "    inventory[x]=y \n",
    "print(inventory)"
   ]
  },
  {
   "cell_type": "code",
   "execution_count": 17,
   "id": "f760e91d",
   "metadata": {},
   "outputs": [
    {
     "name": "stdout",
     "output_type": "stream",
     "text": [
      "Do you want to order? yes\n",
      "What do you want? book\n",
      "How many units? 100\n",
      "Do you want to order? no\n",
      "{'book': 100}\n"
     ]
    }
   ],
   "source": [
    "customer_orders={}\n",
    "while True:\n",
    "    trt=input(\"Do you want to order? \")\n",
    "    if trt==\"yes\":\n",
    "        ex=input(\"What do you want? \")\n",
    "        xe=int(input(\"How many units? \"))                \n",
    "        customer_orders[ex]=xe\n",
    "\n",
    "    else:\n",
    "        print(customer_orders)\n",
    "        break"
   ]
  },
  {
   "cell_type": "code",
   "execution_count": 18,
   "id": "bb4e9ec8",
   "metadata": {},
   "outputs": [
    {
     "name": "stdout",
     "output_type": "stream",
     "text": [
      "Final Stock Counter({'t-shirt': 100, 'mug': 90, 'hat': 80, 'keychain': 60})\n"
     ]
    }
   ],
   "source": [
    "from collections import Counter\n",
    "ini_dictionary1 = Counter(inventory)\n",
    "ini_dictionary2 = Counter(customer_orders)\n",
    "\n",
    "# combining dictionaries\n",
    "# using Counter\n",
    "final_dictionary = ini_dictionary1 - ini_dictionary2\n",
    " \n",
    "# printing final result\n",
    "print (\"Final Stock\", str(final_dictionary))"
   ]
  },
  {
   "cell_type": "code",
   "execution_count": 22,
   "id": "72f4fa4d",
   "metadata": {},
   "outputs": [
    {
     "name": "stdout",
     "output_type": "stream",
     "text": [
      "82.5%\n"
     ]
    }
   ],
   "source": [
    "dew=sum(inventory.values())\n",
    "wed=sum(final_dictionary.values())\n",
    "je=wed/dew*100\n",
    "ej=str(je)\n",
    "eje=ej+\"%\"\n",
    "print(eje)"
   ]
  },
  {
   "cell_type": "code",
   "execution_count": 23,
   "id": "bc692439",
   "metadata": {},
   "outputs": [
    {
     "name": "stdout",
     "output_type": "stream",
     "text": [
      "{'Total products ordered': 70, 'Percentage of Products Ordered': '82.5%'}\n"
     ]
    }
   ],
   "source": [
    "order_status={\"Total products ordered\": dew-wed,\"Percentage of Products Ordered\": eje}\n",
    "print(order_status)"
   ]
  },
  {
   "cell_type": "code",
   "execution_count": null,
   "id": "65d42a9b",
   "metadata": {},
   "outputs": [],
   "source": []
  }
 ],
 "metadata": {
  "kernelspec": {
   "display_name": "Python 3 (ipykernel)",
   "language": "python",
   "name": "python3"
  },
  "language_info": {
   "codemirror_mode": {
    "name": "ipython",
    "version": 3
   },
   "file_extension": ".py",
   "mimetype": "text/x-python",
   "name": "python",
   "nbconvert_exporter": "python",
   "pygments_lexer": "ipython3",
   "version": "3.11.7"
  }
 },
 "nbformat": 4,
 "nbformat_minor": 5
}
